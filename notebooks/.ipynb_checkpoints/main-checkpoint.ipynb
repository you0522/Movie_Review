{
 "cells": [
  {
   "cell_type": "code",
   "execution_count": null,
   "metadata": {},
   "outputs": [],
   "source": [
    "from models.model import MODEL\n",
    "import helper\n",
    "import tensorflow as tf\n",
    "from tensorflow.keras.optimizers import Adam\n",
    "import numpy as np\n",
    "from sklearn.model_selection import train_test_split"
   ]
  },
  {
   "cell_type": "code",
   "execution_count": null,
   "metadata": {},
   "outputs": [],
   "source": [
    "input_size = 10000\n",
    "embedding_size = 24\n",
    "output_size = 5\n",
    "learning_rate = 0.01\n",
    "oov_token = '<OOV>'\n",
    "loss = 'sparse_categorical_crossentropy'\n",
    "optimizer = Adam(learning_rate=learning_rate)\n",
    "epochs = 1\n",
    "train_val_split = 0.2"
   ]
  },
  {
   "cell_type": "code",
   "execution_count": null,
   "metadata": {},
   "outputs": [],
   "source": [
    "sentences, sentiments = helper.get_data('data/train.tsv')\n",
    "sentences = helper.remove_stopwords(sentences, 'data/stopwords')\n",
    "max_length = len(max(sentences, key=len))"
   ]
  },
  {
   "cell_type": "code",
   "execution_count": null,
   "metadata": {},
   "outputs": [],
   "source": [
    "tokenizer = helper.get_tokenizer(input_size, oov_token, sentences)"
   ]
  },
  {
   "cell_type": "code",
   "execution_count": null,
   "metadata": {},
   "outputs": [],
   "source": [
    "padded_sentences = helper.convert_to_sequences(tokenizer, sentences, max_length)"
   ]
  },
  {
   "cell_type": "code",
   "execution_count": null,
   "metadata": {},
   "outputs": [],
   "source": [
    "train_padded_sentences, validation_padded_sentences, train_sentiments, validation_sentiments = \\\n",
    "        train_test_split(\n",
    "            padded_sentences, sentiments, test_size=train_val_split, random_state=42\n",
    "        )"
   ]
  },
  {
   "cell_type": "code",
   "execution_count": null,
   "metadata": {},
   "outputs": [],
   "source": [
    "train_padded_sentences = np.array(train_padded_sentences)\n",
    "train_sentiments = np.array(train_sentiments)\n",
    "validation_padded_sentences = np.array(validation_padded_sentences)\n",
    "validation_sentiments = np.array(validation_sentiments)"
   ]
  },
  {
   "cell_type": "code",
   "execution_count": null,
   "metadata": {},
   "outputs": [],
   "source": [
    "layers = [\n",
    "    tf.keras.layers.Embedding(input_size, embedding_size, input_length=max_length),\n",
    "    # tf.keras.layers.LSTM(32),\n",
    "\n",
    "    # tf.keras.layers.Conv1D(filters=64, kernel_size=5, activation='relu'),\n",
    "    # tf.keras.layers.MaxPooling1D(pool_size=4),\n",
    "    # tf.keras.layers.Dropout(0.2),\n",
    "    tf.keras.layers.GlobalAveragePooling1D(),\n",
    "    tf.keras.layers.Dense(units=24, activation='relu'),\n",
    "    tf.keras.layers.Dense(units=output_size, activation='softmax')\n",
    "]"
   ]
  },
  {
   "cell_type": "code",
   "execution_count": null,
   "metadata": {},
   "outputs": [],
   "source": [
    "model = MODEL(input_size, output_size, layers, loss, optimizer, epochs)"
   ]
  },
  {
   "cell_type": "code",
   "execution_count": null,
   "metadata": {},
   "outputs": [],
   "source": [
    "model.__train__(train_padded_sentences, train_sentiments, validation_padded_sentences, \n",
    "                validation_sentiments)\n",
    "model.__plot_graph__('accuracy')"
   ]
  }
 ],
 "metadata": {
  "kernelspec": {
   "display_name": "Python 3",
   "language": "python",
   "name": "python3"
  },
  "language_info": {
   "codemirror_mode": {
    "name": "ipython",
    "version": 3
   },
   "file_extension": ".py",
   "mimetype": "text/x-python",
   "name": "python",
   "nbconvert_exporter": "python",
   "pygments_lexer": "ipython3",
   "version": "3.8.5"
  }
 },
 "nbformat": 4,
 "nbformat_minor": 1
}
