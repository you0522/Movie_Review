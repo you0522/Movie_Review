{
 "cells": [
  {
   "cell_type": "code",
   "execution_count": null,
   "metadata": {
    "collapsed": true
   },
   "outputs": [],
   "source": [
    "import tensorflow as tf\n",
    "import matplotlib.pyplot as plt\n",
    "\n",
    "\n",
    "class MODEL:\n",
    "\n",
    "    def __init__(self, input_size, output_size, layers, loss, optimizer, epochs):\n",
    "        self.input_size_ = input_size\n",
    "        self.output_size_ = output_size\n",
    "        self.layers_ = layers\n",
    "        self.loss_ = loss\n",
    "        self.optimizer_ = optimizer\n",
    "        self.epochs_ = epochs\n",
    "        self.model_ = self.__build_model__()\n",
    "\n",
    "    def __build_model__(self):\n",
    "        model = tf.keras.Sequential()\n",
    "        for layer in self.layers_:\n",
    "            model.add(layer)\n",
    "        model.compile(loss=self.loss_, optimizer=self.optimizer_, metrics=['accuracy'])\n",
    "        return model\n",
    "\n",
    "    def __model_summary__(self):\n",
    "        self.model_.summary()\n",
    "\n",
    "    def __train__(self, X, y, val_X, val_y):\n",
    "        self.history_ = self.model_.fit(X, y, epochs=self.epochs_, validation_data=(\n",
    "            val_X, val_y\n",
    "        ))\n",
    "        self.model_.save('models/model.h5')\n",
    "\n",
    "    def __test__(self, X, y):\n",
    "        self.test_ = self.model_.evaluate(X, y)\n",
    "        print(\"========================= MODEL TEST =========================\")\n",
    "        print(\"Loss test: {}\".format(self.test_[0]))\n",
    "        print(\"Accuracy test: {}\".format(self.test_[1]))\n",
    "        print(\"============================ END ============================\")\n",
    "\n",
    "    def __predict__(self, X):\n",
    "        self.predict_ = self.model_.predict(X)\n",
    "\n",
    "    def __plot_graph__(self, string):\n",
    "        plt.plot(self.history_.history[string])\n",
    "        plt.plot(self.history_.history['val_' + string])\n",
    "        plt.xlabel('Epochs')\n",
    "        plt.ylabel(string)\n",
    "        plt.legend([string, 'val_' + string])\n",
    "        plt.show()\n"
   ]
  }
 ],
 "metadata": {
  "kernelspec": {
   "display_name": "Python 3",
   "language": "python",
   "name": "python3"
  },
  "language_info": {
   "codemirror_mode": {
    "name": "ipython",
    "version": 3
   },
   "file_extension": ".py",
   "mimetype": "text/x-python",
   "name": "python",
   "nbconvert_exporter": "python",
   "pygments_lexer": "ipython3",
   "version": "3.8.5"
  }
 },
 "nbformat": 4,
 "nbformat_minor": 1
}
